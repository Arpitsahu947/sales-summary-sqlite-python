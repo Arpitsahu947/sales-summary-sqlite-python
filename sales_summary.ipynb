{
 "cells": [
  {
   "cell_type": "code",
   "execution_count": 1,
   "id": "b795266e-9aa2-4f8f-a503-edbfc2f7c04e",
   "metadata": {},
   "outputs": [
    {
     "name": "stdout",
     "output_type": "stream",
     "text": [
      "✅ Dummy sales data inserted into 'sales_data.db'\n"
     ]
    }
   ],
   "source": [
    "import sqlite3\n",
    "\n",
    "# Step 1: Connect to (or create) the SQLite database\n",
    "conn = sqlite3.connect(\"sales_data.db\")\n",
    "cursor = conn.cursor()\n",
    "\n",
    "# Step 2: Create the 'sales' table (if it doesn't already exist)\n",
    "cursor.execute(\"\"\"\n",
    "CREATE TABLE IF NOT EXISTS sales (\n",
    "    id INTEGER PRIMARY KEY AUTOINCREMENT,\n",
    "    product TEXT,\n",
    "    quantity INTEGER,\n",
    "    price REAL\n",
    ")\n",
    "\"\"\")\n",
    "\n",
    "# Step 3: Insert dummy sales data\n",
    "dummy_data = [\n",
    "    ('Product A', 10, 20.0),\n",
    "    ('Product B', 5, 15.0),\n",
    "    ('Product A', 3, 20.0),\n",
    "    ('Product C', 7, 12.0),\n",
    "    ('Product B', 4, 15.0),\n",
    "    ('Product C', 8, 12.0)\n",
    "]\n",
    "\n",
    "cursor.executemany(\"INSERT INTO sales (product, quantity, price) VALUES (?, ?, ?)\", dummy_data)\n",
    "\n",
    "# Step 4: Save and close\n",
    "conn.commit()\n",
    "conn.close()\n",
    "\n",
    "print(\"✅ Dummy sales data inserted into 'sales_data.db'\")\n"
   ]
  },
  {
   "cell_type": "code",
   "execution_count": 2,
   "id": "a79787fc-7ea5-4e95-a840-0b8ceff903a8",
   "metadata": {},
   "outputs": [
    {
     "name": "stdout",
     "output_type": "stream",
     "text": [
      "📊 Sales Summary:\n",
      "\n",
      "     product  total_qty  revenue\n",
      "0  Product A         13    260.0\n",
      "1  Product B          9    135.0\n",
      "2  Product C         15    180.0\n"
     ]
    },
    {
     "data": {
      "text/plain": [
       "<Figure size 800x500 with 0 Axes>"
      ]
     },
     "metadata": {},
     "output_type": "display_data"
    },
    {
     "data": {
      "image/png": "[encoded data removed]",
      "text/plain": [
       "<Figure size 640x480 with 1 Axes>"
      ]
     },
     "metadata": {},
     "output_type": "display_data"
    }
   ],
   "source": [
    "import sqlite3\n",
    "import pandas as pd\n",
    "import matplotlib.pyplot as plt\n",
    "\n",
    "# Step 1: Connect to the database\n",
    "conn = sqlite3.connect(\"sales_data.db\")\n",
    "\n",
    "# Step 2: Run the SQL query\n",
    "query = \"\"\"\n",
    "SELECT product, \n",
    "       SUM(quantity) AS total_qty,\n",
    "       SUM(quantity * price) AS revenue\n",
    "FROM sales\n",
    "GROUP BY product\n",
    "\"\"\"\n",
    "df = pd.read_sql_query(query, conn)\n",
    "\n",
    "# Step 3: Display the result\n",
    "print(\"📊 Sales Summary:\\n\")\n",
    "print(df)\n",
    "\n",
    "# Step 4: Plot bar chart of revenue\n",
    "plt.figure(figsize=(8, 5))\n",
    "df.plot(kind='bar', x='product', y='revenue', color='orange', legend=False)\n",
    "plt.title(\"Revenue by Product\")\n",
    "plt.xlabel(\"Product\")\n",
    "plt.ylabel(\"Revenue\")\n",
    "plt.tight_layout()\n",
    "\n",
    "# Step 5: Optional - Save chart\n",
    "plt.savefig(\"sales_chart.png\")\n",
    "\n",
    "# Step 6: Show chart\n",
    "plt.show()\n",
    "\n",
    "# Step 7: Close DB connection\n",
    "conn.close()\n"
   ]
  },
  {
   "cell_type": "code",
   "execution_count": 3,
   "id": "d6813e00-3ec7-447f-b50a-04bb839c6683",
   "metadata": {},
   "outputs": [
    {
     "data": {
      "text/plain": [
       "<Figure size 640x480 with 0 Axes>"
      ]
     },
     "metadata": {},
     "output_type": "display_data"
    }
   ],
   "source": [
    "plt.savefig(\"sales_chart.png\")\n"
   ]
  },
  {
   "cell_type": "code",
   "execution_count": null,
   "id": "4fbf7e0f-3cb1-4ebd-8e6b-2dad794bc9e9",
   "metadata": {},
   "outputs": [],
   "source": []
  }
 ],
 "metadata": {
  "kernelspec": {
   "display_name": "Python 3 (ipykernel)",
   "language": "python",
   "name": "python3"
  },
  "language_info": {
   "codemirror_mode": {
    "name": "ipython",
    "version": 3
   },
   "file_extension": ".py",
   "mimetype": "text/x-python",
   "name": "python",
   "nbconvert_exporter": "python",
   "pygments_lexer": "ipython3",
   "version": "3.13.5"
  }
 },
 "nbformat": 4,
 "nbformat_minor": 5
}
